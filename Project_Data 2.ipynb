{
 "cells": [
  {
   "cell_type": "code",
   "execution_count": 1,
   "metadata": {},
   "outputs": [],
   "source": [
    "import pandas as pd \n",
    "import numpy as np\n",
    "from matplotlib.ticker import FuncFormatter\n",
    "import csv\n",
    "import requests\n",
    "from bs4 import BeautifulSoup as bs\n"
   ]
  },
  {
   "cell_type": "code",
   "execution_count": 2,
   "metadata": {},
   "outputs": [],
   "source": [
    "url=\"https://www.spotrac.com/nfl/contracts/quarterback/\" #Getting salary data by scraping with Beautiful Soup\n",
    "page=requests.get(url)\n",
    "soup=bs(page.content,\"lxml\")"
   ]
  },
  {
   "cell_type": "code",
   "execution_count": 3,
   "metadata": {},
   "outputs": [],
   "source": [
    "salary=soup.find_all(class_='right xs-hide')\n",
    "names=soup.find_all(class_='player')"
   ]
  },
  {
   "cell_type": "code",
   "execution_count": 4,
   "metadata": {},
   "outputs": [],
   "source": [
    "del names[0] #Removing headers\n",
    "del salary[0:3]\n",
    "players=[]\n",
    "salaries=[]"
   ]
  },
  {
   "cell_type": "code",
   "execution_count": 5,
   "metadata": {},
   "outputs": [],
   "source": [
    "for n in names: #Building list of clean player names\n",
    "    x=n.children\n",
    "    next(x)\n",
    "    name=next(x)\n",
    "    players.append(name.text)"
   ]
  },
  {
   "cell_type": "code",
   "execution_count": 6,
   "metadata": {},
   "outputs": [],
   "source": [
    "for i in range(len(salary)):  #Building list of clean salaries. We want average yearly salary so take every third figure\n",
    "    if (i+3) % 3 == 0:\n",
    "        salaries.append(salary[i].contents[0])"
   ]
  },
  {
   "cell_type": "code",
   "execution_count": 7,
   "metadata": {},
   "outputs": [
    {
     "data": {
      "text/plain": [
       "True"
      ]
     },
     "execution_count": 7,
     "metadata": {},
     "output_type": "execute_result"
    }
   ],
   "source": [
    "len(players)==len(salaries) #Test that lists are in correspondence"
   ]
  },
  {
   "cell_type": "code",
   "execution_count": 8,
   "metadata": {},
   "outputs": [],
   "source": [
    "clean_salaries=[] #Get rid of dollars signs and commas and convert to integer\n",
    "for s in salaries:\n",
    "    sl=s.replace(\"$\",\"\")\n",
    "    sal=sl.replace(\",\",\"\")\n",
    "    num=int(sal)\n",
    "    clean_salaries.append(num)\n",
    "    "
   ]
  },
  {
   "cell_type": "code",
   "execution_count": 9,
   "metadata": {},
   "outputs": [
    {
     "data": {
      "text/html": [
       "<div>\n",
       "<style scoped>\n",
       "    .dataframe tbody tr th:only-of-type {\n",
       "        vertical-align: middle;\n",
       "    }\n",
       "\n",
       "    .dataframe tbody tr th {\n",
       "        vertical-align: top;\n",
       "    }\n",
       "\n",
       "    .dataframe thead th {\n",
       "        text-align: right;\n",
       "    }\n",
       "</style>\n",
       "<table border=\"1\" class=\"dataframe\">\n",
       "  <thead>\n",
       "    <tr style=\"text-align: right;\">\n",
       "      <th></th>\n",
       "      <th>Player</th>\n",
       "      <th>Salary</th>\n",
       "    </tr>\n",
       "  </thead>\n",
       "  <tbody>\n",
       "    <tr>\n",
       "      <th>0</th>\n",
       "      <td>Matt Ryan</td>\n",
       "      <td>30000000</td>\n",
       "    </tr>\n",
       "    <tr>\n",
       "      <th>1</th>\n",
       "      <td>Jimmy Garoppolo</td>\n",
       "      <td>27500000</td>\n",
       "    </tr>\n",
       "    <tr>\n",
       "      <th>2</th>\n",
       "      <td>Matthew Stafford</td>\n",
       "      <td>27000000</td>\n",
       "    </tr>\n",
       "    <tr>\n",
       "      <th>3</th>\n",
       "      <td>Aaron Rodgers</td>\n",
       "      <td>33500000</td>\n",
       "    </tr>\n",
       "    <tr>\n",
       "      <th>4</th>\n",
       "      <td>Derek Carr</td>\n",
       "      <td>25000000</td>\n",
       "    </tr>\n",
       "  </tbody>\n",
       "</table>\n",
       "</div>"
      ],
      "text/plain": [
       "             Player    Salary\n",
       "0         Matt Ryan  30000000\n",
       "1   Jimmy Garoppolo  27500000\n",
       "2  Matthew Stafford  27000000\n",
       "3     Aaron Rodgers  33500000\n",
       "4        Derek Carr  25000000"
      ]
     },
     "execution_count": 9,
     "metadata": {},
     "output_type": "execute_result"
    }
   ],
   "source": [
    "salary_df=pd.DataFrame({\"Player\":players,\"Salary\":clean_salaries}) #Putting both lists into a dataframe\n",
    "salary_df.head()"
   ]
  },
  {
   "cell_type": "code",
   "execution_count": 10,
   "metadata": {},
   "outputs": [
    {
     "ename": "FileNotFoundError",
     "evalue": "[Errno 2] No such file or directory: 'Resources/Cleaned_Dataframes/salary_df.csv'",
     "output_type": "error",
     "traceback": [
      "\u001b[0;31m---------------------------------------------------------------------------\u001b[0m",
      "\u001b[0;31mFileNotFoundError\u001b[0m                         Traceback (most recent call last)",
      "\u001b[0;32m<ipython-input-10-5950bc7aa81f>\u001b[0m in \u001b[0;36m<module>\u001b[0;34m()\u001b[0m\n\u001b[1;32m      1\u001b[0m \u001b[0;31m#Save dataframe for presentation notebook\u001b[0m\u001b[0;34m\u001b[0m\u001b[0;34m\u001b[0m\u001b[0m\n\u001b[0;32m----> 2\u001b[0;31m \u001b[0msalary_df\u001b[0m\u001b[0;34m.\u001b[0m\u001b[0mto_csv\u001b[0m\u001b[0;34m(\u001b[0m\u001b[0;34m'Resources/Cleaned_Dataframes/salary_df.csv'\u001b[0m\u001b[0;34m,\u001b[0m\u001b[0mcolumns\u001b[0m\u001b[0;34m=\u001b[0m\u001b[0msalary_df\u001b[0m\u001b[0;34m.\u001b[0m\u001b[0mcolumns\u001b[0m\u001b[0;34m,\u001b[0m\u001b[0mindex\u001b[0m\u001b[0;34m=\u001b[0m\u001b[0;32mFalse\u001b[0m\u001b[0;34m)\u001b[0m\u001b[0;34m\u001b[0m\u001b[0m\n\u001b[0m",
      "\u001b[0;32m~/anaconda3/lib/python3.6/site-packages/pandas/core/frame.py\u001b[0m in \u001b[0;36mto_csv\u001b[0;34m(self, path_or_buf, sep, na_rep, float_format, columns, header, index, index_label, mode, encoding, compression, quoting, quotechar, line_terminator, chunksize, tupleize_cols, date_format, doublequote, escapechar, decimal)\u001b[0m\n\u001b[1;32m   1743\u001b[0m                                  \u001b[0mdoublequote\u001b[0m\u001b[0;34m=\u001b[0m\u001b[0mdoublequote\u001b[0m\u001b[0;34m,\u001b[0m\u001b[0;34m\u001b[0m\u001b[0m\n\u001b[1;32m   1744\u001b[0m                                  escapechar=escapechar, decimal=decimal)\n\u001b[0;32m-> 1745\u001b[0;31m         \u001b[0mformatter\u001b[0m\u001b[0;34m.\u001b[0m\u001b[0msave\u001b[0m\u001b[0;34m(\u001b[0m\u001b[0;34m)\u001b[0m\u001b[0;34m\u001b[0m\u001b[0m\n\u001b[0m\u001b[1;32m   1746\u001b[0m \u001b[0;34m\u001b[0m\u001b[0m\n\u001b[1;32m   1747\u001b[0m         \u001b[0;32mif\u001b[0m \u001b[0mpath_or_buf\u001b[0m \u001b[0;32mis\u001b[0m \u001b[0;32mNone\u001b[0m\u001b[0;34m:\u001b[0m\u001b[0;34m\u001b[0m\u001b[0m\n",
      "\u001b[0;32m~/anaconda3/lib/python3.6/site-packages/pandas/io/formats/csvs.py\u001b[0m in \u001b[0;36msave\u001b[0;34m(self)\u001b[0m\n\u001b[1;32m    134\u001b[0m             f, handles = _get_handle(self.path_or_buf, self.mode,\n\u001b[1;32m    135\u001b[0m                                      \u001b[0mencoding\u001b[0m\u001b[0;34m=\u001b[0m\u001b[0mencoding\u001b[0m\u001b[0;34m,\u001b[0m\u001b[0;34m\u001b[0m\u001b[0m\n\u001b[0;32m--> 136\u001b[0;31m                                      compression=None)\n\u001b[0m\u001b[1;32m    137\u001b[0m             \u001b[0mclose\u001b[0m \u001b[0;34m=\u001b[0m \u001b[0;32mTrue\u001b[0m \u001b[0;32mif\u001b[0m \u001b[0mself\u001b[0m\u001b[0;34m.\u001b[0m\u001b[0mcompression\u001b[0m \u001b[0;32mis\u001b[0m \u001b[0;32mNone\u001b[0m \u001b[0;32melse\u001b[0m \u001b[0;32mFalse\u001b[0m\u001b[0;34m\u001b[0m\u001b[0m\n\u001b[1;32m    138\u001b[0m \u001b[0;34m\u001b[0m\u001b[0m\n",
      "\u001b[0;32m~/anaconda3/lib/python3.6/site-packages/pandas/io/common.py\u001b[0m in \u001b[0;36m_get_handle\u001b[0;34m(path_or_buf, mode, encoding, compression, memory_map, is_text)\u001b[0m\n\u001b[1;32m    398\u001b[0m         \u001b[0;32melif\u001b[0m \u001b[0mencoding\u001b[0m\u001b[0;34m:\u001b[0m\u001b[0;34m\u001b[0m\u001b[0m\n\u001b[1;32m    399\u001b[0m             \u001b[0;31m# Python 3 and encoding\u001b[0m\u001b[0;34m\u001b[0m\u001b[0;34m\u001b[0m\u001b[0m\n\u001b[0;32m--> 400\u001b[0;31m             \u001b[0mf\u001b[0m \u001b[0;34m=\u001b[0m \u001b[0mopen\u001b[0m\u001b[0;34m(\u001b[0m\u001b[0mpath_or_buf\u001b[0m\u001b[0;34m,\u001b[0m \u001b[0mmode\u001b[0m\u001b[0;34m,\u001b[0m \u001b[0mencoding\u001b[0m\u001b[0;34m=\u001b[0m\u001b[0mencoding\u001b[0m\u001b[0;34m)\u001b[0m\u001b[0;34m\u001b[0m\u001b[0m\n\u001b[0m\u001b[1;32m    401\u001b[0m         \u001b[0;32melif\u001b[0m \u001b[0mis_text\u001b[0m\u001b[0;34m:\u001b[0m\u001b[0;34m\u001b[0m\u001b[0m\n\u001b[1;32m    402\u001b[0m             \u001b[0;31m# Python 3 and no explicit encoding\u001b[0m\u001b[0;34m\u001b[0m\u001b[0;34m\u001b[0m\u001b[0m\n",
      "\u001b[0;31mFileNotFoundError\u001b[0m: [Errno 2] No such file or directory: 'Resources/Cleaned_Dataframes/salary_df.csv'"
     ]
    }
   ],
   "source": [
    "#Save dataframe for presentation notebook\n",
    "salary_df.to_csv('Resources/Cleaned_Dataframes/salary_df.csv',columns=salary_df.columns,index=False)"
   ]
  },
  {
   "cell_type": "code",
   "execution_count": null,
   "metadata": {},
   "outputs": [],
   "source": [
    "#Reading NFL Stats from downloaded CSV\n",
    "nfl_stats = \"Resources/NFL_Stats.csv\"\n",
    "nfl_stats_df = pd.read_csv(nfl_stats)\n",
    "nfl_stats_df.head()"
   ]
  },
  {
   "cell_type": "code",
   "execution_count": null,
   "metadata": {},
   "outputs": [],
   "source": [
    "player_names=nfl_stats_df['Player'].tolist() #Clean asterisk from names\n",
    "clean_names=[]\n",
    "for name in player_names:\n",
    "    clean=name.replace(\"*\",\"\")\n",
    "    clean_names.append(clean)\n",
    "nfl_stats_df['Player']=clean_names\n",
    "nfl_stats_df.head()"
   ]
  },
  {
   "cell_type": "code",
   "execution_count": null,
   "metadata": {},
   "outputs": [],
   "source": [
    "# Clean Dataframe by renaming and deleting unnecssary columns\n",
    "\n",
    "nfl_stats_df = nfl_stats_df.rename(columns={\"Tm\":\"Team\",\n",
    "                                           \"PB\":\"Pro Bowls\",\n",
    "                                           \"Ht\": \"Height (in)\"})\n",
    "del nfl_stats_df[\"Wt\"]\n",
    "del nfl_stats_df[\"BMI\"]\n",
    "del nfl_stats_df[\"AV\"]\n",
    "del nfl_stats_df[\"AP1\"]\n",
    "del nfl_stats_df[\"Rk\"]\n",
    "del nfl_stats_df[\"Lg\"]\n",
    "del nfl_stats_df[\"Team\"]"
   ]
  },
  {
   "cell_type": "code",
   "execution_count": null,
   "metadata": {},
   "outputs": [],
   "source": [
    "#Get Winning Percentage\n",
    "nfl_stats_df [\"W\"].fillna(0, inplace=True)\n",
    "nfl_stats_df [\"L\"].fillna(0, inplace=True)\n",
    "nfl_stats_df [\"T\"].fillna(0, inplace=True)\n",
    "\n",
    "nfl_stats_df[\"Win Record\"] = (nfl_stats_df[\"W\"]/(nfl_stats_df[\"W\"] + nfl_stats_df[\"L\"] + nfl_stats_df[\"T\"]))\n",
    "\n",
    "nfl_stats_df.head()"
   ]
  },
  {
   "cell_type": "code",
   "execution_count": null,
   "metadata": {},
   "outputs": [],
   "source": [
    "# Fill undrafted with a 99\n",
    "nfl_stats_df[\"Draft\"].fillna(99, inplace=True)\n",
    "nfl_stats_df[\"Win Record\"].fillna(0, inplace=True)\n",
    "nfl_stats_df[\"Draft\"] = nfl_stats_df[\"Draft\"].astype(str)"
   ]
  },
  {
   "cell_type": "code",
   "execution_count": null,
   "metadata": {},
   "outputs": [],
   "source": [
    "#Dataframe of each Draft Round\n",
    "\n",
    "undrafted = nfl_stats_df.loc[nfl_stats_df[\"Draft\"] == \"99.0\"]\n",
    "one = nfl_stats_df.loc[nfl_stats_df[\"Draft\"] == \"1.0\"]\n",
    "two = nfl_stats_df.loc[nfl_stats_df[\"Draft\"] == \"2.0\"]\n",
    "three = nfl_stats_df.loc[nfl_stats_df[\"Draft\"] == \"3.0\"]\n",
    "four = nfl_stats_df.loc[nfl_stats_df[\"Draft\"] == \"4.0\"]\n",
    "five = nfl_stats_df.loc[nfl_stats_df[\"Draft\"] == \"5.0\"]\n",
    "six = nfl_stats_df.loc[nfl_stats_df[\"Draft\"] == \"6.0\"]\n",
    "seven = nfl_stats_df.loc[nfl_stats_df[\"Draft\"] == \"7.0\"]\n",
    "eight = nfl_stats_df.loc[nfl_stats_df[\"Draft\"] == \"8.0\"]\n",
    "nine = nfl_stats_df.loc[nfl_stats_df[\"Draft\"] == \"9.0\"]\n",
    "ten = nfl_stats_df.loc[nfl_stats_df[\"Draft\"] == \"10.0\"]\n",
    "eleven = nfl_stats_df.loc[nfl_stats_df[\"Draft\"] == \"11.0\"]\n",
    "twelve = nfl_stats_df.loc[nfl_stats_df[\"Draft\"] == \"12.0\"]\n",
    "thirtheen = nfl_stats_df.loc[nfl_stats_df[\"Draft\"] == \"13.0\"]\n",
    "fourtheen = nfl_stats_df.loc[nfl_stats_df[\"Draft\"] == \"14.0\"]"
   ]
  },
  {
   "cell_type": "code",
   "execution_count": null,
   "metadata": {},
   "outputs": [],
   "source": [
    "#Build Dataframe organized by Round and Average Passer Rating\n",
    "\n",
    "ratings_by_draft = pd.DataFrame({\"Undrafted\":[undrafted[\"Rate\"].mean()],\n",
    "                                 \"1st Round\" : [one[\"Rate\"].mean()],\n",
    "                                 \"2nd Round\" : [two[\"Rate\"].mean()],\n",
    "                                 \"3rd Round\" : [three[\"Rate\"].mean()],\n",
    "                                 \"4th Round\" : [four[\"Rate\"].mean()],\n",
    "                                 \"5th Round\" : [five[\"Rate\"].mean()],\n",
    "                                 \"6th Round\" : [six[\"Rate\"].mean()],\n",
    "                                 \"7th Round\" : [seven[\"Rate\"].mean()],\n",
    "                                 \"8th Round\" : [eight[\"Rate\"].mean()],\n",
    "                                 \"9th Round\" : [nine[\"Rate\"].mean()],\n",
    "                                 \"10th Round\" : [ten[\"Rate\"].mean()],\n",
    "                                 \"11th Round\" : [eleven[\"Rate\"].mean()],\n",
    "                                 \"12th Round\" : [twelve[\"Rate\"].mean()],\n",
    "                                 \"13th Round\" : [thirtheen[\"Rate\"].mean()],\n",
    "                                 \"14th Round\" : [fourtheen[\"Rate\"].mean()]})\n",
    "\n",
    "ratings_by_draft = ratings_by_draft.T\n",
    "ratings_by_draft.reset_index(level=0, inplace = True)\n",
    "ratings_by_draft = ratings_by_draft.rename(columns={\"index\": \"Draft Round\",\n",
    "                                                   \"0\": \"Passer Rating\"})"
   ]
  },
  {
   "cell_type": "code",
   "execution_count": null,
   "metadata": {},
   "outputs": [],
   "source": [
    "#Save dataframes for presentation notebook\n",
    "nfl_stats_df.to_csv(\"Resources/Cleaned_Dataframes/nfl_stats_df.csv\",columns=nfl_stats_df.columns,index=False)\n",
    "ratings_by_draft.to_csv(\"Resources/Cleaned_Dataframes/ratings_by_draft.csv\",columns=ratings_by_draft.columns,index=False)"
   ]
  },
  {
   "cell_type": "code",
   "execution_count": null,
   "metadata": {},
   "outputs": [],
   "source": [
    "reduced_nfl_stats_df = nfl_stats_df.loc[:,[\"Player\",\"Draft\", \"Rate\", \"Pro Bowls\", \"Win Record\"]]\n",
    "grpby_draft = reduced_nfl_stats_df.groupby(\"Draft\", as_index=False)\n",
    "average_rate = pd.DataFrame(grpby_draft [\"Rate\"].mean())\n",
    "average_rate"
   ]
  },
  {
   "cell_type": "code",
   "execution_count": null,
   "metadata": {},
   "outputs": [],
   "source": [
    "percent_nfl_stats_df=reduced_nfl_stats_df.dropna()\n",
    "percent_nfl_stats_df[\"Win Record\"] = percent_nfl_stats_df[\"Win Record\"]*100\n",
    "percent_nfl_stats_df.head()\n"
   ]
  },
  {
   "cell_type": "code",
   "execution_count": null,
   "metadata": {},
   "outputs": [],
   "source": [
    "#Save dataframes for presentation notebook\n",
    "percent_nfl_stats_df.to_csv(\"Resources/Cleaned_Dataframes/percent_nfl_stats_df.csv\",columns=percent_nfl_stats_df.columns,index=False)\n",
    "average_rate.to_csv(\"Resources/Cleaned_Dataframes/average_rate.csv\",columns=average_rate.columns,index=False)"
   ]
  },
  {
   "cell_type": "code",
   "execution_count": null,
   "metadata": {},
   "outputs": [],
   "source": [
    "#Get and clean college football players and ratings\n",
    "player=[]\n",
    "rate=[]\n",
    "for year in range(1982,2018):\n",
    "    file=\"CFB/\"+str(year)+\".csv\"\n",
    "    with open(file,newline='') as f:\n",
    "        reader=csv.reader(f)\n",
    "        next(reader)\n",
    "        next(reader)\n",
    "        for row in reader:\n",
    "            bad_name=row[1].replace(\"*\",\"\") #Cleaning player names\n",
    "            split_names=bad_name.split(\"\\\\\")\n",
    "            clean_name=split_names[0]                          \n",
    "            player.append(clean_name)\n",
    "            rate.append(float(row[13]))"
   ]
  },
  {
   "cell_type": "code",
   "execution_count": null,
   "metadata": {},
   "outputs": [],
   "source": [
    "len(player)==len(rate) #Test"
   ]
  },
  {
   "cell_type": "code",
   "execution_count": null,
   "metadata": {},
   "outputs": [],
   "source": [
    "#Go backwards to get only last year of college for each player\n",
    "players=[]\n",
    "ratings=[]  \n",
    "for i in range(len(player)-1,-1,-1): \n",
    "    if player[i] not in players:\n",
    "        players.append(player[i])\n",
    "        ratings.append(rate[i])"
   ]
  },
  {
   "cell_type": "code",
   "execution_count": null,
   "metadata": {},
   "outputs": [],
   "source": [
    "len(players)==len(ratings)#test"
   ]
  },
  {
   "cell_type": "code",
   "execution_count": null,
   "metadata": {},
   "outputs": [],
   "source": [
    "college=pd.DataFrame({\"Player\":players,\"College Rating\":ratings})\n",
    "college.head()"
   ]
  },
  {
   "cell_type": "code",
   "execution_count": null,
   "metadata": {},
   "outputs": [],
   "source": [
    "names=[]\n",
    "qbr=[]\n",
    "wins=[]\n",
    "loss=[]\n",
    "pbs=[]\n",
    "winper=[]\n",
    "games=[]"
   ]
  },
  {
   "cell_type": "code",
   "execution_count": null,
   "metadata": {},
   "outputs": [],
   "source": [
    "with open(\"Resources/NFL_Stats.csv\",newline=\"\") as nf: #NFL data to be merged with college data\n",
    "    read=csv.reader(nf)\n",
    "    next(read)\n",
    "    for r in read:\n",
    "        names.append(r[1].replace(\"*\",\"\")) #Clean asterisk from names\n",
    "        qbr.append(float(r[18]))\n",
    "        try:\n",
    "            wins.append(int(r[21]))\n",
    "        except:\n",
    "            wins.append(\"\")\n",
    "        try:\n",
    "            loss.append(int(r[22]))\n",
    "        except:\n",
    "            loss.append(\"\")\n",
    "        try:\n",
    "            per=round((int(r[21])/(int(r[21])+int(r[22])))*100,1)\n",
    "            winper.append(per)         \n",
    "        except:\n",
    "            winper.append(\"\")\n",
    "        try:\n",
    "            games.append(int(r[21])+int(r[22]))\n",
    "        except:\n",
    "            games.append(\"\")\n",
    "        pbs.append(int(r[25]))"
   ]
  },
  {
   "cell_type": "code",
   "execution_count": null,
   "metadata": {},
   "outputs": [],
   "source": [
    "len(names)==len(qbr)&len(wins)==(len(loss)&len(pbs)) #Test"
   ]
  },
  {
   "cell_type": "code",
   "execution_count": null,
   "metadata": {},
   "outputs": [],
   "source": [
    "nfltmp=pd.DataFrame({\"Player\":names,\"NFL QBR\":qbr,\"Games\":games,\"Wins\":wins,\"Losses\":loss,\"Win Percentage\":winper})\n",
    "nfltmp.head()"
   ]
  },
  {
   "cell_type": "code",
   "execution_count": null,
   "metadata": {},
   "outputs": [],
   "source": [
    "#Save dataframes for presentation notebook\n",
    "college.to_csv(\"Resources/Cleaned_Dataframes/college.csv\",columns=college.columns,index=False)\n",
    "nfltmp.to_csv(\"Resources/Cleaned_Dataframes/nfltmp.csv\",columns=nfltmp.columns,index=False)"
   ]
  },
  {
   "cell_type": "code",
   "execution_count": null,
   "metadata": {},
   "outputs": [],
   "source": [
    "nfl_picks=pd.read_csv(\"Resources/QB Draft Stats.csv\") #This CSV has more granular draft data, although fewer players\n",
    "nfl_picks.head()"
   ]
  },
  {
   "cell_type": "code",
   "execution_count": null,
   "metadata": {},
   "outputs": [],
   "source": [
    "picks=pd.DataFrame({\"Player\":nfl_picks[\"Unnamed: 4\"],\"Pick\":nfl_picks[\"Unnamed: 3\"]})\n",
    "picks=picks.drop(0)\n",
    "picks.head()"
   ]
  },
  {
   "cell_type": "code",
   "execution_count": null,
   "metadata": {},
   "outputs": [],
   "source": [
    "pick_stats=pd.merge(picks,nfl_stats_df,on=\"Player\")\n",
    "pick_stats.head()"
   ]
  },
  {
   "cell_type": "code",
   "execution_count": null,
   "metadata": {},
   "outputs": [],
   "source": [
    "#Save dataframe for presentation notebook\n",
    "pick_stats.to_csv(\"Resources/Cleaned_Dataframes/pick_stats.csv\",columns=pick_stats.columns,index=False)\n"
   ]
  }
 ],
 "metadata": {
  "kernelspec": {
   "display_name": "Python 3",
   "language": "python",
   "name": "python3"
  },
  "language_info": {
   "codemirror_mode": {
    "name": "ipython",
    "version": 3
   },
   "file_extension": ".py",
   "mimetype": "text/x-python",
   "name": "python",
   "nbconvert_exporter": "python",
   "pygments_lexer": "ipython3",
   "version": "3.6.5"
  }
 },
 "nbformat": 4,
 "nbformat_minor": 2
}
